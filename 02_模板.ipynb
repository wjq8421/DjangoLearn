{
 "cells": [
  {
   "cell_type": "markdown",
   "metadata": {},
   "source": [
    "```Python\n",
    "# zqxt_tmpl/learn/views.py\n",
    "def home(request):\n",
    "\tstring = u'我在自强学堂学习Django，用它来建网站'\n",
    "\treturn render(request, 'learn/home.html', {'string':string})\n",
    "```\n",
    "\n",
    "- zqxt_tmpl/learn/templates/learn/home.html：在网页上显示字符串。\n",
    "```html\n",
    "{{ string }}\n",
    "```"
   ]
  },
  {
   "cell_type": "markdown",
   "metadata": {},
   "source": [
    "____\n",
    "#### 基本的for循环\n",
    "```Python\n",
    "def home(request):\n",
    "\t# 传递一个list到模板home.html\n",
    "\tTutorialList = [\"HTML\", \"CSS\", \"jQuery\", \"Python\", \"Django\"]\n",
    "\treturn render(request, 'learn/home.html', {'TutorialList':TutorialList})\n",
    "```\n",
    "\n",
    "- zqxt_tmpl/learn/templates/learn/home.html \n",
    "```html\n",
    "教程列表：\n",
    "{% for i in TutorialList %}\n",
    "{{ i }}\n",
    "{% endfor %}\n",
    "```\n",
    "\n",
    "- 一般的变量之类的，用{{}}。\n",
    "- 功能类的，如循环、条件判断，用{%%}"
   ]
  },
  {
   "cell_type": "markdown",
   "metadata": {},
   "source": [
    "_____\n",
    "#### 字典显示\n",
    "```Python\n",
    "def home(request):\n",
    "\tinfo_dict = {'site':u'自强学堂', 'content':u'各种IT技术教程'}\n",
    "\treturn render(request, 'learn/home.html', {'info_dict':info_dict})\n",
    "```\n",
    "\n",
    "- 模板中，字典的键是用点。\n",
    "```html\n",
    "站点：{{ info_dict.site}}  内容：{{info_dict.content}}\n",
    "```\n",
    "\n",
    "- 遍历字典\n",
    "```html\n",
    "{% for key, value in info_dict.items %}\n",
    "{{ key }}: {{ value}}\n",
    "{% endfor %}\n",
    "```"
   ]
  },
  {
   "cell_type": "markdown",
   "metadata": {},
   "source": [
    "____\n",
    "#### forloop.last\n",
    "```Python\n",
    "def home(request):\n",
    "\tList = map(str, range(100))\n",
    "\treturn render(request, 'learn/home.html', {'List':List})\n",
    "```\n",
    "\n",
    "- forloop.last：如果是最后一项，其为真；否则为假。\n",
    "```html\n",
    "{% for item in List %}\n",
    "{{ item }}{% if not forloop.last %},{% endif %}\n",
    "{% endfor %}\n",
    "```\n",
    "\n",
    "- forloop.counter：索引从1开始算\n",
    "- forloop.counter0：索引从0开始算\n",
    "- forloop.revcounter：索引从最大长度到1\n",
    "- forloop.revcounter0：索引从最大长度到0\n",
    "- forloop.first：当遍历的元素为第一项时为真\n",
    "- forloop.parentloop：用在嵌套的for循环中，获取上一层for循环的forloop"
   ]
  },
  {
   "cell_type": "code",
   "execution_count": null,
   "metadata": {},
   "outputs": [],
   "source": []
  }
 ],
 "metadata": {
  "kernelspec": {
   "display_name": "Python 3",
   "language": "python",
   "name": "python3"
  },
  "language_info": {
   "codemirror_mode": {
    "name": "ipython",
    "version": 3
   },
   "file_extension": ".py",
   "mimetype": "text/x-python",
   "name": "python",
   "nbconvert_exporter": "python",
   "pygments_lexer": "ipython3",
   "version": "3.6.6"
  }
 },
 "nbformat": 4,
 "nbformat_minor": 2
}
